{
 "cells": [
  {
   "cell_type": "code",
   "execution_count": 2,
   "id": "0f9389ed-c45e-4e61-b125-1792c157d13c",
   "metadata": {},
   "outputs": [
    {
     "data": {
      "text/plain": [
       "[(5, 2.193450927734375e-05),\n",
       " (10, 9.059906005859375e-06),\n",
       " (15, 8.106231689453125e-06),\n",
       " (20, 9.775161743164062e-06),\n",
       " (25, 1.4066696166992188e-05),\n",
       " (30, 1.1920928955078125e-05),\n",
       " (35, 1.4066696166992188e-05),\n",
       " (40, 1.430511474609375e-05),\n",
       " (45, 1.5735626220703125e-05),\n",
       " (50, 1.811981201171875e-05),\n",
       " (55, 1.8835067749023438e-05),\n",
       " (60, 2.09808349609375e-05),\n",
       " (65, 2.8133392333984375e-05),\n",
       " (70, 2.5987625122070312e-05),\n",
       " (75, 2.5033950805664062e-05),\n",
       " (80, 2.8133392333984375e-05),\n",
       " (85, 3.0994415283203125e-05),\n",
       " (90, 3.0994415283203125e-05),\n",
       " (95, 3.2901763916015625e-05),\n",
       " (100, 3.600120544433594e-05)]"
      ]
     },
     "execution_count": 2,
     "metadata": {},
     "output_type": "execute_result"
    }
   ],
   "source": [
    "import time\n",
    "from random import randrange\n",
    "\n",
    "class Tasks:\n",
    "    def __init__(self):\n",
    "        self.jobs = [] \n",
    "\n",
    "    def add_task(self, length, weight):\n",
    "        self.jobs.append((length, weight))\n",
    "\n",
    "    def GreedyRatio(self):\n",
    "        self.jobs.sort(key=lambda x: x[1]/x[0], reverse=True)\n",
    "        total_weighted_completion_time = 0\n",
    "        current_time = 0\n",
    "        \n",
    "        for length, weight in self.jobs:\n",
    "            current_time += length\n",
    "            total_weighted_completion_time += weight * current_time\n",
    "            \n",
    "        return total_weighted_completion_time\n",
    "\n",
    "def empirical_runtime_analysis():\n",
    "    results = []\n",
    "    for n in range(5, 102, 5):\n",
    "        tasks = Tasks()\n",
    "        for _ in range(n):\n",
    "            length = randrange(5, 51, 5)\n",
    "            weight = randrange(1, n + 1)\n",
    "            tasks.add_task(length, weight)\n",
    "        \n",
    "        start_time = time.time()\n",
    "        tasks.GreedyRatio()\n",
    "        end_time = time.time()\n",
    "        \n",
    "        runtime = end_time - start_time\n",
    "        results.append((n, runtime))\n",
    "    \n",
    "    return results\n",
    "\n",
    "empirical_runtime_analysis()\n"
   ]
  },
  {
   "cell_type": "code",
   "execution_count": null,
   "id": "4a980d67-7980-4e83-b32d-c8edeff2aa8c",
   "metadata": {},
   "outputs": [],
   "source": []
  }
 ],
 "metadata": {
  "kernelspec": {
   "display_name": "Python 3 (ipykernel)",
   "language": "python",
   "name": "python3"
  },
  "language_info": {
   "codemirror_mode": {
    "name": "ipython",
    "version": 3
   },
   "file_extension": ".py",
   "mimetype": "text/x-python",
   "name": "python",
   "nbconvert_exporter": "python",
   "pygments_lexer": "ipython3",
   "version": "3.12.2"
  }
 },
 "nbformat": 4,
 "nbformat_minor": 5
}
