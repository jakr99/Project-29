{
 "cells": [
  {
   "cell_type": "code",
   "execution_count": 1,
   "id": "0d103d55-8a1a-475e-838e-97d19e12f27b",
   "metadata": {},
   "outputs": [
    {
     "ename": "SyntaxError",
     "evalue": "invalid syntax (1976216454.py, line 1)",
     "output_type": "error",
     "traceback": [
      "\u001b[0;36m  Cell \u001b[0;32mIn[1], line 1\u001b[0;36m\u001b[0m\n\u001b[0;31m    Dijkstra(Graph, source):\u001b[0m\n\u001b[0m                           ^\u001b[0m\n\u001b[0;31mSyntaxError\u001b[0m\u001b[0;31m:\u001b[0m invalid syntax\n"
     ]
    }
   ],
   "source": [
    "Dijkstra(Graph, source):\n",
    "    for each vertex v in Graph:\n",
    "        distance[v] := infinity\n",
    "        previous[v] := undefined\n",
    "    distance[source] := 0\n",
    "    create minheap Q\n",
    "    for each vertex v in Graph:\n",
    "        Q.add_with_priority(v, distance[v])\n",
    "\n",
    "    while Q is not empty:\n",
    "        u := Q.extract_min()  // removes and returns the element with smallest distance\n",
    "        for each neighbor v of u:  // only v that are still in Q\n",
    "            alt := distance[u] + length(u, v)\n",
    "            if alt < distance[v]:\n",
    "                distance[v] := alt\n",
    "                previous[v] := u\n",
    "                Q.decrease_priority(v, alt)  // Reorder v in the minheap based on new distance\n",
    "\n",
    "    return distance[], previous[]\n",
    "\n",
    "# the total runtime of the algorithm is O((V+E)log V)"
   ]
  },
  {
   "cell_type": "code",
   "execution_count": 2,
   "id": "321deb9f-c473-4ab2-9c8e-a8345186b802",
   "metadata": {},
   "outputs": [],
   "source": [
    "import heapq\n",
    "\n",
    "class Graph:\n",
    "    def __init__(self):\n",
    "        self.edges = {}  # adjacency list representation\n",
    "\n",
    "    def add_edge(self, from_vertex, to_vertex, weight):\n",
    "        # Since it's an undirected graph, we'll add edges in both directions\n",
    "        if from_vertex in self.edges:\n",
    "            self.edges[from_vertex].append((to_vertex, weight))\n",
    "        else:\n",
    "            self.edges[from_vertex] = [(to_vertex, weight)]\n",
    "        if to_vertex in self.edges:\n",
    "            self.edges[to_vertex].append((from_vertex, weight))\n",
    "        else:\n",
    "            self.edges[to_vertex] = [(from_vertex, weight)]\n",
    "\n",
    "    def dijkstra(self, start_vertex):\n",
    "        distances = {vertex: float('infinity') for vertex in self.edges}\n",
    "        previous_vertices = {vertex: None for vertex in self.edges}\n",
    "        distances[start_vertex] = 0\n",
    "        pq = [(0, start_vertex)]\n",
    "\n",
    "        while pq:\n",
    "            current_distance, current_vertex = heapq.heappop(pq)\n",
    "\n",
    "            # Nodes can get added to the priority queue multiple times. We only\n",
    "            # process a vertex the first time we remove it from the priority queue.\n",
    "            if current_distance > distances[current_vertex]:\n",
    "                continue\n",
    "\n",
    "            for neighbor, weight in self.edges[current_vertex]:\n",
    "                distance = current_distance + weight\n",
    "\n",
    "                # Only consider this new path if it's better than any path we've\n",
    "                # already found.\n",
    "                if distance < distances[neighbor]:\n",
    "                    distances[neighbor] = distance\n",
    "                    previous_vertices[neighbor] = current_vertex\n",
    "                    heapq.heappush(pq, (distance, neighbor))\n",
    "\n",
    "        return distances, previous_vertices\n"
   ]
  },
  {
   "cell_type": "code",
   "execution_count": null,
   "id": "f09aefff-7fcd-4351-b78a-54ddca912d89",
   "metadata": {},
   "outputs": [],
   "source": []
  }
 ],
 "metadata": {
  "kernelspec": {
   "display_name": "Python 3 (ipykernel)",
   "language": "python",
   "name": "python3"
  },
  "language_info": {
   "codemirror_mode": {
    "name": "ipython",
    "version": 3
   },
   "file_extension": ".py",
   "mimetype": "text/x-python",
   "name": "python",
   "nbconvert_exporter": "python",
   "pygments_lexer": "ipython3",
   "version": "3.12.2"
  }
 },
 "nbformat": 4,
 "nbformat_minor": 5
}
